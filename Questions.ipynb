{
 "cells": [
  {
   "cell_type": "markdown",
   "metadata": {
    "colab_type": "text",
    "id": "x_BkOtqBIKQz"
   },
   "source": [
    "# Data Science Challenge"
   ]
  },
  {
   "cell_type": "code",
   "execution_count": 1,
   "metadata": {
    "colab": {},
    "colab_type": "code",
    "id": "U_VthdACIKQ6"
   },
   "outputs": [],
   "source": [
    "# If you'd like to install packages that aren't installed by default, uncomment the last two lines of this cell and replace <package list> with a list of your packages.\n",
    "# This will ensure your notebook has all the dependencies and works everywhere\n",
    "\n",
    "#import sys\n",
    "#!{sys.executable} -m pip install matplotlib pandas seaborn scikit-learn numpy "
   ]
  },
  {
   "cell_type": "code",
   "execution_count": 2,
   "metadata": {
    "colab": {},
    "colab_type": "code",
    "id": "VzGFUCCVIKRL"
   },
   "outputs": [],
   "source": [
    "#Libraries\n",
    "import pandas as pd, numpy as np\n",
    "import matplotlib.pyplot as plt\n",
    "import seaborn as sns\n",
    "pd.set_option(\"display.max_columns\", 101)"
   ]
  },
  {
   "cell_type": "markdown",
   "metadata": {
    "colab_type": "text",
    "id": "TZ23KNY8IKRT"
   },
   "source": [
    "## Data Description"
   ]
  },
  {
   "cell_type": "markdown",
   "metadata": {
    "colab_type": "text",
    "id": "jWSkqquEIKRW"
   },
   "source": [
    "Column | Description\n",
    ":---|:---\n",
    "`id` | Unique id\n",
    "`Daily Time Spent on Site` | Consumer time spent on site (in minutes)\n",
    "`Age` | Consumer age (in years)\n",
    "`Area Income` | Avg. Income of geographical area of consumer (in US $$)\n",
    "`Daily Internet Usage` | Avg. minutes a day consumer is on the internet\n",
    "`Ad Topic Line` | Headline of the advertisement\n",
    "`gender` | Gender of the consumer\n",
    "`Country` | Country of consumer\n",
    "`Timestamp` | Timestamp at which consumer clicked on Ad or closed window (YYYY-MM-DD HH:MM:SS)\n",
    "`Clicked` | Whether a consumer clicked on the advert or not (0: No ,1: Yes)"
   ]
  },
  {
   "cell_type": "markdown",
   "metadata": {
    "colab_type": "text",
    "id": "BWQqx7cSIKRX"
   },
   "source": [
    "## Data Wrangling & Visualization"
   ]
  },
  {
   "cell_type": "code",
   "execution_count": 3,
   "metadata": {
    "colab": {},
    "colab_type": "code",
    "id": "SsjL7tf7IKRc"
   },
   "outputs": [],
   "source": [
    "# Dataset is already loaded below\n",
    "data = pd.read_csv(\"train.csv\")"
   ]
  },
  {
   "cell_type": "code",
   "execution_count": 4,
   "metadata": {
    "colab": {},
    "colab_type": "code",
    "id": "kzuHtZEkIKRh",
    "outputId": "9d14832c-2eda-48eb-df41-548113a94a73"
   },
   "outputs": [
    {
     "data": {
      "text/html": [
       "<div>\n",
       "<style scoped>\n",
       "    .dataframe tbody tr th:only-of-type {\n",
       "        vertical-align: middle;\n",
       "    }\n",
       "\n",
       "    .dataframe tbody tr th {\n",
       "        vertical-align: top;\n",
       "    }\n",
       "\n",
       "    .dataframe thead th {\n",
       "        text-align: right;\n",
       "    }\n",
       "</style>\n",
       "<table border=\"1\" class=\"dataframe\">\n",
       "  <thead>\n",
       "    <tr style=\"text-align: right;\">\n",
       "      <th></th>\n",
       "      <th>id</th>\n",
       "      <th>Timestamp</th>\n",
       "      <th>Daily Time Spent on Site</th>\n",
       "      <th>Age</th>\n",
       "      <th>Area Income</th>\n",
       "      <th>Daily Internet Usage</th>\n",
       "      <th>Ad Topic Line</th>\n",
       "      <th>gender</th>\n",
       "      <th>Country</th>\n",
       "      <th>Clicked</th>\n",
       "    </tr>\n",
       "  </thead>\n",
       "  <tbody>\n",
       "    <tr>\n",
       "      <th>0</th>\n",
       "      <td>1200</td>\n",
       "      <td>2016-01-01 02:52:10</td>\n",
       "      <td>80.67</td>\n",
       "      <td>34</td>\n",
       "      <td>58909.36</td>\n",
       "      <td>239.76</td>\n",
       "      <td>Seamless impactful info-mediaries</td>\n",
       "      <td>0</td>\n",
       "      <td>Portugal</td>\n",
       "      <td>0</td>\n",
       "    </tr>\n",
       "    <tr>\n",
       "      <th>1</th>\n",
       "      <td>1201</td>\n",
       "      <td>2016-01-01 03:35:35</td>\n",
       "      <td>68.01</td>\n",
       "      <td>25</td>\n",
       "      <td>68357.96</td>\n",
       "      <td>188.32</td>\n",
       "      <td>Ameliorated actuating workforce</td>\n",
       "      <td>1</td>\n",
       "      <td>Afghanistan</td>\n",
       "      <td>0</td>\n",
       "    </tr>\n",
       "    <tr>\n",
       "      <th>2</th>\n",
       "      <td>1202</td>\n",
       "      <td>2016-01-01 05:31:22</td>\n",
       "      <td>80.94</td>\n",
       "      <td>36</td>\n",
       "      <td>60803.00</td>\n",
       "      <td>239.94</td>\n",
       "      <td>Self-enabling local strategy</td>\n",
       "      <td>0</td>\n",
       "      <td>Bermuda</td>\n",
       "      <td>0</td>\n",
       "    </tr>\n",
       "    <tr>\n",
       "      <th>3</th>\n",
       "      <td>1203</td>\n",
       "      <td>2016-01-01 08:27:06</td>\n",
       "      <td>78.77</td>\n",
       "      <td>28</td>\n",
       "      <td>63497.62</td>\n",
       "      <td>211.83</td>\n",
       "      <td>Public-key intangible Graphical User Interface</td>\n",
       "      <td>0</td>\n",
       "      <td>Guam</td>\n",
       "      <td>0</td>\n",
       "    </tr>\n",
       "    <tr>\n",
       "      <th>4</th>\n",
       "      <td>1204</td>\n",
       "      <td>2016-01-01 15:14:24</td>\n",
       "      <td>36.56</td>\n",
       "      <td>29</td>\n",
       "      <td>42838.29</td>\n",
       "      <td>195.89</td>\n",
       "      <td>Team-oriented bi-directional secured line</td>\n",
       "      <td>0</td>\n",
       "      <td>Uganda</td>\n",
       "      <td>1</td>\n",
       "    </tr>\n",
       "  </tbody>\n",
       "</table>\n",
       "</div>"
      ],
      "text/plain": [
       "     id            Timestamp  Daily Time Spent on Site  Age  Area Income  \\\n",
       "0  1200  2016-01-01 02:52:10                     80.67   34     58909.36   \n",
       "1  1201  2016-01-01 03:35:35                     68.01   25     68357.96   \n",
       "2  1202  2016-01-01 05:31:22                     80.94   36     60803.00   \n",
       "3  1203  2016-01-01 08:27:06                     78.77   28     63497.62   \n",
       "4  1204  2016-01-01 15:14:24                     36.56   29     42838.29   \n",
       "\n",
       "   Daily Internet Usage                                   Ad Topic Line  \\\n",
       "0                239.76               Seamless impactful info-mediaries   \n",
       "1                188.32                 Ameliorated actuating workforce   \n",
       "2                239.94                    Self-enabling local strategy   \n",
       "3                211.83  Public-key intangible Graphical User Interface   \n",
       "4                195.89       Team-oriented bi-directional secured line   \n",
       "\n",
       "   gender      Country  Clicked  \n",
       "0       0     Portugal        0  \n",
       "1       1  Afghanistan        0  \n",
       "2       0      Bermuda        0  \n",
       "3       0         Guam        0  \n",
       "4       0       Uganda        1  "
      ]
     },
     "execution_count": 4,
     "metadata": {},
     "output_type": "execute_result"
    }
   ],
   "source": [
    "data.head()"
   ]
  },
  {
   "cell_type": "code",
   "execution_count": 5,
   "metadata": {
    "colab": {},
    "colab_type": "code",
    "id": "0mhMZRlBIKRu",
    "outputId": "0a669059-5528-4ec0-d64b-8231f6aadf45"
   },
   "outputs": [
    {
     "data": {
      "text/plain": [
       "Index(['id', 'Timestamp', 'Daily Time Spent on Site', 'Age', 'Area Income',\n",
       "       'Daily Internet Usage', 'Ad Topic Line', 'gender', 'Country',\n",
       "       'Clicked'],\n",
       "      dtype='object')"
      ]
     },
     "execution_count": 5,
     "metadata": {},
     "output_type": "execute_result"
    }
   ],
   "source": [
    "#Explore columns\n",
    "data.columns"
   ]
  },
  {
   "cell_type": "markdown",
   "metadata": {},
   "source": [
    "##### Observation\n",
    "\n",
    "- Features to be dropped are :-\n",
    "\n",
    "    - Id-the primary key of data has no bearing on the output\n",
    "    \n",
    "    - Timestamp-Timestamp will be parse to day,time and month \n",
    "    \n",
    "    - Area income as more 25% is null values , more than admissible range of bad data"
   ]
  },
  {
   "cell_type": "code",
   "execution_count": 6,
   "metadata": {},
   "outputs": [],
   "source": [
    "data.drop('id',axis=1,inplace=True)\n",
    "data.drop('Area Income',axis=1,inplace=True)"
   ]
  },
  {
   "cell_type": "code",
   "execution_count": 7,
   "metadata": {
    "colab": {},
    "colab_type": "code",
    "id": "-SrTmyfJIKR1",
    "outputId": "12b270ca-8c3f-402b-d6c1-286c17e63fdd",
    "scrolled": true
   },
   "outputs": [
    {
     "data": {
      "text/html": [
       "<div>\n",
       "<style scoped>\n",
       "    .dataframe tbody tr th:only-of-type {\n",
       "        vertical-align: middle;\n",
       "    }\n",
       "\n",
       "    .dataframe tbody tr th {\n",
       "        vertical-align: top;\n",
       "    }\n",
       "\n",
       "    .dataframe thead th {\n",
       "        text-align: right;\n",
       "    }\n",
       "</style>\n",
       "<table border=\"1\" class=\"dataframe\">\n",
       "  <thead>\n",
       "    <tr style=\"text-align: right;\">\n",
       "      <th></th>\n",
       "      <th>Daily Time Spent on Site</th>\n",
       "      <th>Age</th>\n",
       "      <th>Daily Internet Usage</th>\n",
       "      <th>gender</th>\n",
       "      <th>Clicked</th>\n",
       "    </tr>\n",
       "  </thead>\n",
       "  <tbody>\n",
       "    <tr>\n",
       "      <th>count</th>\n",
       "      <td>1000.000000</td>\n",
       "      <td>1000.000000</td>\n",
       "      <td>1000.000000</td>\n",
       "      <td>1000.000000</td>\n",
       "      <td>1000.000000</td>\n",
       "    </tr>\n",
       "    <tr>\n",
       "      <th>mean</th>\n",
       "      <td>65.120650</td>\n",
       "      <td>35.816000</td>\n",
       "      <td>179.592310</td>\n",
       "      <td>0.474000</td>\n",
       "      <td>0.503000</td>\n",
       "    </tr>\n",
       "    <tr>\n",
       "      <th>std</th>\n",
       "      <td>15.781456</td>\n",
       "      <td>8.782669</td>\n",
       "      <td>43.735785</td>\n",
       "      <td>0.499573</td>\n",
       "      <td>0.500241</td>\n",
       "    </tr>\n",
       "    <tr>\n",
       "      <th>min</th>\n",
       "      <td>32.600000</td>\n",
       "      <td>19.000000</td>\n",
       "      <td>105.000000</td>\n",
       "      <td>0.000000</td>\n",
       "      <td>0.000000</td>\n",
       "    </tr>\n",
       "    <tr>\n",
       "      <th>25%</th>\n",
       "      <td>51.450000</td>\n",
       "      <td>29.000000</td>\n",
       "      <td>137.885000</td>\n",
       "      <td>0.000000</td>\n",
       "      <td>0.000000</td>\n",
       "    </tr>\n",
       "    <tr>\n",
       "      <th>50%</th>\n",
       "      <td>68.390000</td>\n",
       "      <td>35.000000</td>\n",
       "      <td>182.425000</td>\n",
       "      <td>0.000000</td>\n",
       "      <td>1.000000</td>\n",
       "    </tr>\n",
       "    <tr>\n",
       "      <th>75%</th>\n",
       "      <td>78.572500</td>\n",
       "      <td>41.250000</td>\n",
       "      <td>217.707500</td>\n",
       "      <td>1.000000</td>\n",
       "      <td>1.000000</td>\n",
       "    </tr>\n",
       "    <tr>\n",
       "      <th>max</th>\n",
       "      <td>91.370000</td>\n",
       "      <td>61.000000</td>\n",
       "      <td>269.960000</td>\n",
       "      <td>1.000000</td>\n",
       "      <td>1.000000</td>\n",
       "    </tr>\n",
       "  </tbody>\n",
       "</table>\n",
       "</div>"
      ],
      "text/plain": [
       "       Daily Time Spent on Site          Age  Daily Internet Usage  \\\n",
       "count               1000.000000  1000.000000           1000.000000   \n",
       "mean                  65.120650    35.816000            179.592310   \n",
       "std                   15.781456     8.782669             43.735785   \n",
       "min                   32.600000    19.000000            105.000000   \n",
       "25%                   51.450000    29.000000            137.885000   \n",
       "50%                   68.390000    35.000000            182.425000   \n",
       "75%                   78.572500    41.250000            217.707500   \n",
       "max                   91.370000    61.000000            269.960000   \n",
       "\n",
       "            gender      Clicked  \n",
       "count  1000.000000  1000.000000  \n",
       "mean      0.474000     0.503000  \n",
       "std       0.499573     0.500241  \n",
       "min       0.000000     0.000000  \n",
       "25%       0.000000     0.000000  \n",
       "50%       0.000000     1.000000  \n",
       "75%       1.000000     1.000000  \n",
       "max       1.000000     1.000000  "
      ]
     },
     "execution_count": 7,
     "metadata": {},
     "output_type": "execute_result"
    }
   ],
   "source": [
    "#Description\n",
    "data.describe()"
   ]
  },
  {
   "cell_type": "code",
   "execution_count": 8,
   "metadata": {},
   "outputs": [
    {
     "name": "stdout",
     "output_type": "stream",
     "text": [
      "<class 'pandas.core.frame.DataFrame'>\n",
      "RangeIndex: 1000 entries, 0 to 999\n",
      "Data columns (total 8 columns):\n",
      " #   Column                    Non-Null Count  Dtype  \n",
      "---  ------                    --------------  -----  \n",
      " 0   Timestamp                 1000 non-null   object \n",
      " 1   Daily Time Spent on Site  1000 non-null   float64\n",
      " 2   Age                       1000 non-null   int64  \n",
      " 3   Daily Internet Usage      1000 non-null   float64\n",
      " 4   Ad Topic Line             1000 non-null   object \n",
      " 5   gender                    1000 non-null   int64  \n",
      " 6   Country                   1000 non-null   object \n",
      " 7   Clicked                   1000 non-null   int64  \n",
      "dtypes: float64(2), int64(3), object(3)\n",
      "memory usage: 62.6+ KB\n"
     ]
    }
   ],
   "source": [
    "data.info()"
   ]
  },
  {
   "cell_type": "code",
   "execution_count": 9,
   "metadata": {},
   "outputs": [
    {
     "name": "stdout",
     "output_type": "stream",
     "text": [
      "Number of features : 8\n",
      "Number of rows : 1000\n"
     ]
    }
   ],
   "source": [
    "print(\"Number of features :\",data.shape[1])\n",
    "print(\"Number of rows :\",data.shape[0])"
   ]
  },
  {
   "cell_type": "code",
   "execution_count": 10,
   "metadata": {},
   "outputs": [
    {
     "data": {
      "text/plain": [
       "1    503\n",
       "0    497\n",
       "Name: Clicked, dtype: int64"
      ]
     },
     "execution_count": 10,
     "metadata": {},
     "output_type": "execute_result"
    }
   ],
   "source": [
    "data.Clicked.value_counts()"
   ]
  },
  {
   "cell_type": "code",
   "execution_count": 11,
   "metadata": {},
   "outputs": [
    {
     "data": {
      "text/plain": [
       "Timestamp                   0\n",
       "Daily Time Spent on Site    0\n",
       "Age                         0\n",
       "Daily Internet Usage        0\n",
       "Ad Topic Line               0\n",
       "gender                      0\n",
       "Country                     0\n",
       "Clicked                     0\n",
       "dtype: int64"
      ]
     },
     "execution_count": 11,
     "metadata": {},
     "output_type": "execute_result"
    }
   ],
   "source": [
    "data.isnull().sum()"
   ]
  },
  {
   "cell_type": "markdown",
   "metadata": {},
   "source": [
    "### 24% of Area Income data is null"
   ]
  },
  {
   "cell_type": "code",
   "execution_count": 12,
   "metadata": {},
   "outputs": [
    {
     "data": {
      "text/plain": [
       "1    503\n",
       "0    497\n",
       "Name: Clicked, dtype: int64"
      ]
     },
     "execution_count": 12,
     "metadata": {},
     "output_type": "execute_result"
    }
   ],
   "source": [
    "data.Clicked.value_counts()"
   ]
  },
  {
   "cell_type": "markdown",
   "metadata": {},
   "source": [
    "### No Class imbalance"
   ]
  },
  {
   "cell_type": "code",
   "execution_count": 13,
   "metadata": {},
   "outputs": [
    {
     "data": {
      "text/html": [
       "<div>\n",
       "<style scoped>\n",
       "    .dataframe tbody tr th:only-of-type {\n",
       "        vertical-align: middle;\n",
       "    }\n",
       "\n",
       "    .dataframe tbody tr th {\n",
       "        vertical-align: top;\n",
       "    }\n",
       "\n",
       "    .dataframe thead th {\n",
       "        text-align: right;\n",
       "    }\n",
       "</style>\n",
       "<table border=\"1\" class=\"dataframe\">\n",
       "  <thead>\n",
       "    <tr style=\"text-align: right;\">\n",
       "      <th></th>\n",
       "      <th>Daily Time Spent on Site</th>\n",
       "      <th>Age</th>\n",
       "      <th>Daily Internet Usage</th>\n",
       "      <th>Ad Topic Line</th>\n",
       "      <th>gender</th>\n",
       "      <th>Country</th>\n",
       "      <th>Clicked</th>\n",
       "      <th>Month</th>\n",
       "      <th>Year</th>\n",
       "      <th>Day</th>\n",
       "      <th>hour</th>\n",
       "      <th>minute</th>\n",
       "      <th>second</th>\n",
       "    </tr>\n",
       "  </thead>\n",
       "  <tbody>\n",
       "    <tr>\n",
       "      <th>0</th>\n",
       "      <td>80.67</td>\n",
       "      <td>34</td>\n",
       "      <td>239.76</td>\n",
       "      <td>Seamless impactful info-mediaries</td>\n",
       "      <td>0</td>\n",
       "      <td>Portugal</td>\n",
       "      <td>0</td>\n",
       "      <td>1</td>\n",
       "      <td>2016</td>\n",
       "      <td>1</td>\n",
       "      <td>2</td>\n",
       "      <td>52</td>\n",
       "      <td>10</td>\n",
       "    </tr>\n",
       "    <tr>\n",
       "      <th>1</th>\n",
       "      <td>68.01</td>\n",
       "      <td>25</td>\n",
       "      <td>188.32</td>\n",
       "      <td>Ameliorated actuating workforce</td>\n",
       "      <td>1</td>\n",
       "      <td>Afghanistan</td>\n",
       "      <td>0</td>\n",
       "      <td>1</td>\n",
       "      <td>2016</td>\n",
       "      <td>1</td>\n",
       "      <td>3</td>\n",
       "      <td>35</td>\n",
       "      <td>35</td>\n",
       "    </tr>\n",
       "    <tr>\n",
       "      <th>2</th>\n",
       "      <td>80.94</td>\n",
       "      <td>36</td>\n",
       "      <td>239.94</td>\n",
       "      <td>Self-enabling local strategy</td>\n",
       "      <td>0</td>\n",
       "      <td>Bermuda</td>\n",
       "      <td>0</td>\n",
       "      <td>1</td>\n",
       "      <td>2016</td>\n",
       "      <td>1</td>\n",
       "      <td>5</td>\n",
       "      <td>31</td>\n",
       "      <td>22</td>\n",
       "    </tr>\n",
       "    <tr>\n",
       "      <th>3</th>\n",
       "      <td>78.77</td>\n",
       "      <td>28</td>\n",
       "      <td>211.83</td>\n",
       "      <td>Public-key intangible Graphical User Interface</td>\n",
       "      <td>0</td>\n",
       "      <td>Guam</td>\n",
       "      <td>0</td>\n",
       "      <td>1</td>\n",
       "      <td>2016</td>\n",
       "      <td>1</td>\n",
       "      <td>8</td>\n",
       "      <td>27</td>\n",
       "      <td>6</td>\n",
       "    </tr>\n",
       "    <tr>\n",
       "      <th>4</th>\n",
       "      <td>36.56</td>\n",
       "      <td>29</td>\n",
       "      <td>195.89</td>\n",
       "      <td>Team-oriented bi-directional secured line</td>\n",
       "      <td>0</td>\n",
       "      <td>Uganda</td>\n",
       "      <td>1</td>\n",
       "      <td>1</td>\n",
       "      <td>2016</td>\n",
       "      <td>1</td>\n",
       "      <td>15</td>\n",
       "      <td>14</td>\n",
       "      <td>24</td>\n",
       "    </tr>\n",
       "    <tr>\n",
       "      <th>...</th>\n",
       "      <td>...</td>\n",
       "      <td>...</td>\n",
       "      <td>...</td>\n",
       "      <td>...</td>\n",
       "      <td>...</td>\n",
       "      <td>...</td>\n",
       "      <td>...</td>\n",
       "      <td>...</td>\n",
       "      <td>...</td>\n",
       "      <td>...</td>\n",
       "      <td>...</td>\n",
       "      <td>...</td>\n",
       "      <td>...</td>\n",
       "    </tr>\n",
       "    <tr>\n",
       "      <th>995</th>\n",
       "      <td>82.12</td>\n",
       "      <td>54</td>\n",
       "      <td>132.66</td>\n",
       "      <td>Triple-buffered human-resource complexity</td>\n",
       "      <td>1</td>\n",
       "      <td>Cuba</td>\n",
       "      <td>1</td>\n",
       "      <td>6</td>\n",
       "      <td>2016</td>\n",
       "      <td>3</td>\n",
       "      <td>17</td>\n",
       "      <td>32</td>\n",
       "      <td>47</td>\n",
       "    </tr>\n",
       "    <tr>\n",
       "      <th>996</th>\n",
       "      <td>45.01</td>\n",
       "      <td>26</td>\n",
       "      <td>178.35</td>\n",
       "      <td>Virtual 5thgeneration emulation</td>\n",
       "      <td>0</td>\n",
       "      <td>Brazil</td>\n",
       "      <td>1</td>\n",
       "      <td>6</td>\n",
       "      <td>2016</td>\n",
       "      <td>3</td>\n",
       "      <td>21</td>\n",
       "      <td>43</td>\n",
       "      <td>21</td>\n",
       "    </tr>\n",
       "    <tr>\n",
       "      <th>997</th>\n",
       "      <td>36.62</td>\n",
       "      <td>36</td>\n",
       "      <td>163.00</td>\n",
       "      <td>Front-line incremental access</td>\n",
       "      <td>0</td>\n",
       "      <td>Guyana</td>\n",
       "      <td>1</td>\n",
       "      <td>6</td>\n",
       "      <td>2016</td>\n",
       "      <td>4</td>\n",
       "      <td>9</td>\n",
       "      <td>13</td>\n",
       "      <td>29</td>\n",
       "    </tr>\n",
       "    <tr>\n",
       "      <th>998</th>\n",
       "      <td>80.46</td>\n",
       "      <td>29</td>\n",
       "      <td>230.78</td>\n",
       "      <td>Mandatory coherent groupware</td>\n",
       "      <td>0</td>\n",
       "      <td>India</td>\n",
       "      <td>0</td>\n",
       "      <td>6</td>\n",
       "      <td>2016</td>\n",
       "      <td>4</td>\n",
       "      <td>9</td>\n",
       "      <td>13</td>\n",
       "      <td>29</td>\n",
       "    </tr>\n",
       "    <tr>\n",
       "      <th>999</th>\n",
       "      <td>81.98</td>\n",
       "      <td>34</td>\n",
       "      <td>212.88</td>\n",
       "      <td>Up-sized maximized model</td>\n",
       "      <td>0</td>\n",
       "      <td>Saint Martin</td>\n",
       "      <td>0</td>\n",
       "      <td>6</td>\n",
       "      <td>2016</td>\n",
       "      <td>4</td>\n",
       "      <td>9</td>\n",
       "      <td>25</td>\n",
       "      <td>27</td>\n",
       "    </tr>\n",
       "  </tbody>\n",
       "</table>\n",
       "<p>1000 rows × 13 columns</p>\n",
       "</div>"
      ],
      "text/plain": [
       "     Daily Time Spent on Site  Age  Daily Internet Usage  \\\n",
       "0                       80.67   34                239.76   \n",
       "1                       68.01   25                188.32   \n",
       "2                       80.94   36                239.94   \n",
       "3                       78.77   28                211.83   \n",
       "4                       36.56   29                195.89   \n",
       "..                        ...  ...                   ...   \n",
       "995                     82.12   54                132.66   \n",
       "996                     45.01   26                178.35   \n",
       "997                     36.62   36                163.00   \n",
       "998                     80.46   29                230.78   \n",
       "999                     81.98   34                212.88   \n",
       "\n",
       "                                      Ad Topic Line  gender       Country  \\\n",
       "0                 Seamless impactful info-mediaries       0      Portugal   \n",
       "1                   Ameliorated actuating workforce       1   Afghanistan   \n",
       "2                      Self-enabling local strategy       0       Bermuda   \n",
       "3    Public-key intangible Graphical User Interface       0          Guam   \n",
       "4         Team-oriented bi-directional secured line       0        Uganda   \n",
       "..                                              ...     ...           ...   \n",
       "995       Triple-buffered human-resource complexity       1          Cuba   \n",
       "996                 Virtual 5thgeneration emulation       0        Brazil   \n",
       "997                   Front-line incremental access       0        Guyana   \n",
       "998                    Mandatory coherent groupware       0         India   \n",
       "999                        Up-sized maximized model       0  Saint Martin   \n",
       "\n",
       "     Clicked  Month  Year  Day  hour  minute  second  \n",
       "0          0      1  2016    1     2      52      10  \n",
       "1          0      1  2016    1     3      35      35  \n",
       "2          0      1  2016    1     5      31      22  \n",
       "3          0      1  2016    1     8      27       6  \n",
       "4          1      1  2016    1    15      14      24  \n",
       "..       ...    ...   ...  ...   ...     ...     ...  \n",
       "995        1      6  2016    3    17      32      47  \n",
       "996        1      6  2016    3    21      43      21  \n",
       "997        1      6  2016    4     9      13      29  \n",
       "998        0      6  2016    4     9      13      29  \n",
       "999        0      6  2016    4     9      25      27  \n",
       "\n",
       "[1000 rows x 13 columns]"
      ]
     },
     "execution_count": 13,
     "metadata": {},
     "output_type": "execute_result"
    }
   ],
   "source": [
    "from datetime import datetime\n",
    "data.Timestamp=pd.to_datetime(data.Timestamp )\n",
    "data['Month']=pd.DatetimeIndex(data['Timestamp']).month\n",
    "data['Year']=pd.DatetimeIndex(data['Timestamp']).year\n",
    "data['Day']=pd.DatetimeIndex(data['Timestamp']).day\n",
    "data['hour']=pd.DatetimeIndex(data['Timestamp']).hour\n",
    "data['minute']=pd.DatetimeIndex(data['Timestamp']).minute\n",
    "data['second']=pd.DatetimeIndex(data['Timestamp']).second\n",
    "data.drop('Timestamp',axis=1,inplace=True)\n",
    "data"
   ]
  },
  {
   "cell_type": "code",
   "execution_count": 14,
   "metadata": {},
   "outputs": [
    {
     "name": "stdout",
     "output_type": "stream",
     "text": [
      "<class 'pandas.core.frame.DataFrame'>\n",
      "RangeIndex: 1000 entries, 0 to 999\n",
      "Data columns (total 13 columns):\n",
      " #   Column                    Non-Null Count  Dtype  \n",
      "---  ------                    --------------  -----  \n",
      " 0   Daily Time Spent on Site  1000 non-null   float64\n",
      " 1   Age                       1000 non-null   int64  \n",
      " 2   Daily Internet Usage      1000 non-null   float64\n",
      " 3   Ad Topic Line             1000 non-null   object \n",
      " 4   gender                    1000 non-null   int64  \n",
      " 5   Country                   1000 non-null   object \n",
      " 6   Clicked                   1000 non-null   int64  \n",
      " 7   Month                     1000 non-null   int64  \n",
      " 8   Year                      1000 non-null   int64  \n",
      " 9   Day                       1000 non-null   int64  \n",
      " 10  hour                      1000 non-null   int64  \n",
      " 11  minute                    1000 non-null   int64  \n",
      " 12  second                    1000 non-null   int64  \n",
      "dtypes: float64(2), int64(9), object(2)\n",
      "memory usage: 101.7+ KB\n"
     ]
    }
   ],
   "source": [
    "data.info()"
   ]
  },
  {
   "cell_type": "markdown",
   "metadata": {},
   "source": [
    "#### Observation\n",
    "To be encoded :-\n",
    "    \n",
    "    - Ad Topic Line :- as the advertisement topic line could have an impact on the user clicking\n",
    "    \n",
    "    - Country :- The country of origin might determine the user preferences\n",
    "\n",
    "- Hence not to be dropped"
   ]
  },
  {
   "cell_type": "code",
   "execution_count": 15,
   "metadata": {},
   "outputs": [],
   "source": [
    "from sklearn.preprocessing import LabelEncoder\n",
    "\n",
    "le = LabelEncoder()\n",
    "data['Ad Topic Line'] = le.fit_transform(data['Ad Topic Line'])\n",
    "data['Country'] = le.fit_transform(data['Country'])"
   ]
  },
  {
   "cell_type": "code",
   "execution_count": 16,
   "metadata": {},
   "outputs": [
    {
     "data": {
      "text/html": [
       "<div>\n",
       "<style scoped>\n",
       "    .dataframe tbody tr th:only-of-type {\n",
       "        vertical-align: middle;\n",
       "    }\n",
       "\n",
       "    .dataframe tbody tr th {\n",
       "        vertical-align: top;\n",
       "    }\n",
       "\n",
       "    .dataframe thead th {\n",
       "        text-align: right;\n",
       "    }\n",
       "</style>\n",
       "<table border=\"1\" class=\"dataframe\">\n",
       "  <thead>\n",
       "    <tr style=\"text-align: right;\">\n",
       "      <th></th>\n",
       "      <th>Daily Time Spent on Site</th>\n",
       "      <th>Age</th>\n",
       "      <th>Daily Internet Usage</th>\n",
       "      <th>Ad Topic Line</th>\n",
       "      <th>gender</th>\n",
       "      <th>Country</th>\n",
       "      <th>Clicked</th>\n",
       "      <th>Month</th>\n",
       "      <th>Year</th>\n",
       "      <th>Day</th>\n",
       "      <th>hour</th>\n",
       "      <th>minute</th>\n",
       "      <th>second</th>\n",
       "    </tr>\n",
       "  </thead>\n",
       "  <tbody>\n",
       "    <tr>\n",
       "      <th>0</th>\n",
       "      <td>80.67</td>\n",
       "      <td>34</td>\n",
       "      <td>239.76</td>\n",
       "      <td>645</td>\n",
       "      <td>0</td>\n",
       "      <td>166</td>\n",
       "      <td>0</td>\n",
       "      <td>1</td>\n",
       "      <td>2016</td>\n",
       "      <td>1</td>\n",
       "      <td>2</td>\n",
       "      <td>52</td>\n",
       "      <td>10</td>\n",
       "    </tr>\n",
       "    <tr>\n",
       "      <th>1</th>\n",
       "      <td>68.01</td>\n",
       "      <td>25</td>\n",
       "      <td>188.32</td>\n",
       "      <td>14</td>\n",
       "      <td>1</td>\n",
       "      <td>0</td>\n",
       "      <td>0</td>\n",
       "      <td>1</td>\n",
       "      <td>2016</td>\n",
       "      <td>1</td>\n",
       "      <td>3</td>\n",
       "      <td>35</td>\n",
       "      <td>35</td>\n",
       "    </tr>\n",
       "    <tr>\n",
       "      <th>2</th>\n",
       "      <td>80.94</td>\n",
       "      <td>36</td>\n",
       "      <td>239.94</td>\n",
       "      <td>661</td>\n",
       "      <td>0</td>\n",
       "      <td>23</td>\n",
       "      <td>0</td>\n",
       "      <td>1</td>\n",
       "      <td>2016</td>\n",
       "      <td>1</td>\n",
       "      <td>5</td>\n",
       "      <td>31</td>\n",
       "      <td>22</td>\n",
       "    </tr>\n",
       "    <tr>\n",
       "      <th>3</th>\n",
       "      <td>78.77</td>\n",
       "      <td>28</td>\n",
       "      <td>211.83</td>\n",
       "      <td>565</td>\n",
       "      <td>0</td>\n",
       "      <td>82</td>\n",
       "      <td>0</td>\n",
       "      <td>1</td>\n",
       "      <td>2016</td>\n",
       "      <td>1</td>\n",
       "      <td>8</td>\n",
       "      <td>27</td>\n",
       "      <td>6</td>\n",
       "    </tr>\n",
       "    <tr>\n",
       "      <th>4</th>\n",
       "      <td>36.56</td>\n",
       "      <td>29</td>\n",
       "      <td>195.89</td>\n",
       "      <td>723</td>\n",
       "      <td>0</td>\n",
       "      <td>216</td>\n",
       "      <td>1</td>\n",
       "      <td>1</td>\n",
       "      <td>2016</td>\n",
       "      <td>1</td>\n",
       "      <td>15</td>\n",
       "      <td>14</td>\n",
       "      <td>24</td>\n",
       "    </tr>\n",
       "  </tbody>\n",
       "</table>\n",
       "</div>"
      ],
      "text/plain": [
       "   Daily Time Spent on Site  Age  Daily Internet Usage  Ad Topic Line  gender  \\\n",
       "0                     80.67   34                239.76            645       0   \n",
       "1                     68.01   25                188.32             14       1   \n",
       "2                     80.94   36                239.94            661       0   \n",
       "3                     78.77   28                211.83            565       0   \n",
       "4                     36.56   29                195.89            723       0   \n",
       "\n",
       "   Country  Clicked  Month  Year  Day  hour  minute  second  \n",
       "0      166        0      1  2016    1     2      52      10  \n",
       "1        0        0      1  2016    1     3      35      35  \n",
       "2       23        0      1  2016    1     5      31      22  \n",
       "3       82        0      1  2016    1     8      27       6  \n",
       "4      216        1      1  2016    1    15      14      24  "
      ]
     },
     "execution_count": 16,
     "metadata": {},
     "output_type": "execute_result"
    }
   ],
   "source": [
    "data.head()"
   ]
  },
  {
   "cell_type": "markdown",
   "metadata": {
    "colab_type": "text",
    "id": "ymsdDaIPIKSX"
   },
   "source": [
    "## Visualization, Modeling, Machine Learning\n",
    "\n",
    "Predict which users might click a particular advertisement.\n",
    "Please explain the findings effectively to technical and non-technical audiences using comments and visualizations, if appropriate.\n",
    "- **Build an optimized model that effectively solves the business problem.**\n",
    "- **The model's performance will be evaluated on the basis of accuracy.**\n",
    "- **Read the test.csv file and prepare features for testing.**"
   ]
  },
  {
   "cell_type": "code",
   "execution_count": 17,
   "metadata": {
    "colab": {},
    "colab_type": "code",
    "id": "Hsxh3SMgIKSY",
    "outputId": "d98d0f00-f33f-407b-df59-a9915bb03fa1"
   },
   "outputs": [
    {
     "data": {
      "text/html": [
       "<div>\n",
       "<style scoped>\n",
       "    .dataframe tbody tr th:only-of-type {\n",
       "        vertical-align: middle;\n",
       "    }\n",
       "\n",
       "    .dataframe tbody tr th {\n",
       "        vertical-align: top;\n",
       "    }\n",
       "\n",
       "    .dataframe thead th {\n",
       "        text-align: right;\n",
       "    }\n",
       "</style>\n",
       "<table border=\"1\" class=\"dataframe\">\n",
       "  <thead>\n",
       "    <tr style=\"text-align: right;\">\n",
       "      <th></th>\n",
       "      <th>id</th>\n",
       "      <th>Timestamp</th>\n",
       "      <th>Daily Time Spent on Site</th>\n",
       "      <th>Age</th>\n",
       "      <th>Area Income</th>\n",
       "      <th>Daily Internet Usage</th>\n",
       "      <th>Ad Topic Line</th>\n",
       "      <th>gender</th>\n",
       "      <th>Country</th>\n",
       "    </tr>\n",
       "  </thead>\n",
       "  <tbody>\n",
       "    <tr>\n",
       "      <th>0</th>\n",
       "      <td>2200</td>\n",
       "      <td>2016-06-04 17:24:07</td>\n",
       "      <td>43.88</td>\n",
       "      <td>54</td>\n",
       "      <td>31523.09</td>\n",
       "      <td>166.85</td>\n",
       "      <td>Enhanced methodical database</td>\n",
       "      <td>1</td>\n",
       "      <td>Somalia</td>\n",
       "    </tr>\n",
       "    <tr>\n",
       "      <th>1</th>\n",
       "      <td>2201</td>\n",
       "      <td>2016-06-05 00:29:13</td>\n",
       "      <td>66.40</td>\n",
       "      <td>40</td>\n",
       "      <td>77567.85</td>\n",
       "      <td>214.42</td>\n",
       "      <td>Digitized heuristic solution</td>\n",
       "      <td>0</td>\n",
       "      <td>Antigua and Barbuda</td>\n",
       "    </tr>\n",
       "    <tr>\n",
       "      <th>2</th>\n",
       "      <td>2202</td>\n",
       "      <td>2016-06-05 00:29:13</td>\n",
       "      <td>79.52</td>\n",
       "      <td>34</td>\n",
       "      <td>NaN</td>\n",
       "      <td>141.58</td>\n",
       "      <td>Customer-focused 24/7 concept</td>\n",
       "      <td>0</td>\n",
       "      <td>United States of America</td>\n",
       "    </tr>\n",
       "    <tr>\n",
       "      <th>3</th>\n",
       "      <td>2203</td>\n",
       "      <td>2016-06-05 07:54:30</td>\n",
       "      <td>52.35</td>\n",
       "      <td>25</td>\n",
       "      <td>33293.78</td>\n",
       "      <td>147.61</td>\n",
       "      <td>Mandatory 4thgeneration structure</td>\n",
       "      <td>1</td>\n",
       "      <td>Mali</td>\n",
       "    </tr>\n",
       "    <tr>\n",
       "      <th>4</th>\n",
       "      <td>2204</td>\n",
       "      <td>2016-06-05 07:54:30</td>\n",
       "      <td>81.51</td>\n",
       "      <td>36</td>\n",
       "      <td>NaN</td>\n",
       "      <td>195.93</td>\n",
       "      <td>Monitored local Internet solution</td>\n",
       "      <td>0</td>\n",
       "      <td>Croatia</td>\n",
       "    </tr>\n",
       "  </tbody>\n",
       "</table>\n",
       "</div>"
      ],
      "text/plain": [
       "     id            Timestamp  Daily Time Spent on Site  Age  Area Income  \\\n",
       "0  2200  2016-06-04 17:24:07                     43.88   54     31523.09   \n",
       "1  2201  2016-06-05 00:29:13                     66.40   40     77567.85   \n",
       "2  2202  2016-06-05 00:29:13                     79.52   34          NaN   \n",
       "3  2203  2016-06-05 07:54:30                     52.35   25     33293.78   \n",
       "4  2204  2016-06-05 07:54:30                     81.51   36          NaN   \n",
       "\n",
       "   Daily Internet Usage                      Ad Topic Line  gender  \\\n",
       "0                166.85       Enhanced methodical database       1   \n",
       "1                214.42       Digitized heuristic solution       0   \n",
       "2                141.58      Customer-focused 24/7 concept       0   \n",
       "3                147.61  Mandatory 4thgeneration structure       1   \n",
       "4                195.93  Monitored local Internet solution       0   \n",
       "\n",
       "                    Country  \n",
       "0                   Somalia  \n",
       "1       Antigua and Barbuda  \n",
       "2  United States of America  \n",
       "3                      Mali  \n",
       "4                   Croatia  "
      ]
     },
     "execution_count": 17,
     "metadata": {},
     "output_type": "execute_result"
    }
   ],
   "source": [
    "#Loading Test data\n",
    "test_data=pd.read_csv('test.csv')\n",
    "test_data.head()"
   ]
  },
  {
   "cell_type": "markdown",
   "metadata": {
    "colab": {},
    "colab_type": "code",
    "id": "1XiIoLYLIKSj"
   },
   "source": [
    "### Preprocessing steps similar to train data on test data for later testing"
   ]
  },
  {
   "cell_type": "code",
   "execution_count": 18,
   "metadata": {
    "colab": {},
    "colab_type": "code",
    "id": "7tBCHjd3IKSp"
   },
   "outputs": [],
   "source": [
    "test_data.drop('id',axis=1,inplace=True)\n",
    "test_data.Timestamp=pd.to_datetime(test_data.Timestamp )\n",
    "test_data['Month']=pd.DatetimeIndex(test_data['Timestamp']).month\n",
    "test_data['Year']=pd.DatetimeIndex(test_data['Timestamp']).year\n",
    "test_data['Day']=pd.DatetimeIndex(test_data['Timestamp']).day\n",
    "test_data['hour']=pd.DatetimeIndex(test_data['Timestamp']).hour\n",
    "test_data['minute']=pd.DatetimeIndex(test_data['Timestamp']).minute\n",
    "test_data['second']=pd.DatetimeIndex(test_data['Timestamp']).second\n",
    "\n",
    "test_data.drop('Timestamp',axis=1,inplace=True)\n",
    "test_data.drop('Area Income',axis=1,inplace=True)\n",
    "\n",
    "lt = LabelEncoder()\n",
    "test_data['Ad Topic Line'] = le.fit_transform(test_data['Ad Topic Line'])\n",
    "test_data['Country'] = le.fit_transform(test_data['Country'])"
   ]
  },
  {
   "cell_type": "code",
   "execution_count": 19,
   "metadata": {
    "colab": {},
    "colab_type": "code",
    "id": "1Vk1EEy9IKSv"
   },
   "outputs": [
    {
     "data": {
      "text/plain": [
       "Daily Time Spent on Site    0\n",
       "Age                         0\n",
       "Daily Internet Usage        0\n",
       "Ad Topic Line               0\n",
       "gender                      0\n",
       "Country                     0\n",
       "Month                       0\n",
       "Year                        0\n",
       "Day                         0\n",
       "hour                        0\n",
       "minute                      0\n",
       "second                      0\n",
       "dtype: int64"
      ]
     },
     "execution_count": 19,
     "metadata": {},
     "output_type": "execute_result"
    }
   ],
   "source": [
    "test_data.isna().sum()"
   ]
  },
  {
   "cell_type": "code",
   "execution_count": 20,
   "metadata": {
    "colab": {},
    "colab_type": "code",
    "id": "nkQU41WSIKSz"
   },
   "outputs": [
    {
     "data": {
      "text/plain": [
       "(300, 12)"
      ]
     },
     "execution_count": 20,
     "metadata": {},
     "output_type": "execute_result"
    }
   ],
   "source": [
    "test_data.shape"
   ]
  },
  {
   "cell_type": "code",
   "execution_count": 21,
   "metadata": {},
   "outputs": [],
   "source": [
    "\n",
    "from sklearn.model_selection import train_test_split\n",
    "\n",
    "y = data[\"Clicked\"]\n",
    "X = data.drop(\"Clicked\", axis=1)\n",
    "\n",
    "X_train, X_val, y_train, y_val = train_test_split(X,y, test_size=0.2, random_state=1)"
   ]
  },
  {
   "cell_type": "code",
   "execution_count": 22,
   "metadata": {},
   "outputs": [],
   "source": [
    "# scaling the test data set\n",
    "\n",
    "from sklearn.preprocessing import StandardScaler\n",
    "sc = StandardScaler()\n",
    "X_train = sc.fit_transform(X_train)\n",
    "X_test = sc.fit_transform(X_val)"
   ]
  },
  {
   "cell_type": "code",
   "execution_count": 63,
   "metadata": {},
   "outputs": [],
   "source": [
    "def models(X_train, Y_train):\n",
    "\n",
    "# use logistic regration \n",
    "\n",
    "    from sklearn.linear_model import LogisticRegression\n",
    "    log = LogisticRegression(random_state = 0)\n",
    "    log.fit(X_train, Y_train)\n",
    "    \n",
    "# use k-neighbors\n",
    "    from sklearn.neighbors import KNeighborsClassifier\n",
    "    knn = KNeighborsClassifier(n_neighbors = 5, metric = 'minkowski', p=2)\n",
    "    knn.fit(X_train, Y_train)\n",
    "    \n",
    "# use SVC \n",
    "    from sklearn.svm import SVC\n",
    "    svc_rbf = SVC(kernel='rbf', random_state = 0)\n",
    "    svc_rbf.fit(X_train, Y_train)\n",
    "    \n",
    "#use GassianNB\n",
    "    from sklearn.naive_bayes import GaussianNB\n",
    "    gauss = GaussianNB()\n",
    "    gauss.fit(X_train, Y_train)\n",
    "\n",
    "#use decision tree \n",
    "    from sklearn.tree import DecisionTreeClassifier\n",
    "    tree = DecisionTreeClassifier(criterion = 'entropy', random_state = 0)\n",
    "    tree.fit(X_train, Y_train)\n",
    "    \n",
    "#use random forest \n",
    "    from sklearn.ensemble import RandomForestClassifier\n",
    "    forest = RandomForestClassifier(n_estimators=10, criterion = 'entropy', random_state = 0)\n",
    "    forest.fit(X_train, Y_train)\n",
    "    \n",
    "#use Extra Tree Classifier\n",
    "    from sklearn.ensemble import ExtraTreesClassifier\n",
    "    extratree = ExtraTreesClassifier()\n",
    "    extratree.fit(X_train, Y_train)\n",
    "    \n",
    "    \n",
    "    print('LogisticRegression', log.score(X_train, Y_train))\n",
    "    print('KNeighborsClassifier',knn.score(X_train, Y_train))\n",
    "    print('SVC',svc_rbf.score(X_train, Y_train))\n",
    "    print('GaussianNB',gauss.score(X_train, Y_train))\n",
    "    print('DecisionTreeClassifier',tree.score(X_train, Y_train))\n",
    "    print('RandomForestClassifier',forest.score(X_train, Y_train))\n",
    "    print('ExtraTreeClassifier',extratree.score(X_train, Y_train))\n",
    "\n",
    "    return log, knn, svc_rbf, gauss, tree, forest , extratree"
   ]
  },
  {
   "cell_type": "code",
   "execution_count": 64,
   "metadata": {},
   "outputs": [
    {
     "name": "stdout",
     "output_type": "stream",
     "text": [
      "LogisticRegression 0.8525\n",
      "KNeighborsClassifier 0.88\n",
      "SVC 0.89\n",
      "GaussianNB 0.855\n",
      "DecisionTreeClassifier 1.0\n",
      "RandomForestClassifier 0.9925\n",
      "ExtraTreeClassifier 1.0\n"
     ]
    }
   ],
   "source": [
    "model = models(X_train, y_train)"
   ]
  },
  {
   "cell_type": "markdown",
   "metadata": {},
   "source": [
    "### Verification"
   ]
  },
  {
   "cell_type": "code",
   "execution_count": 65,
   "metadata": {},
   "outputs": [],
   "source": [
    "from sklearn.metrics import accuracy_score, recall_score, confusion_matrix, classification_report\n",
    "from sklearn.metrics import mean_squared_error,mean_absolute_error, r2_score\n"
   ]
  },
  {
   "cell_type": "code",
   "execution_count": 70,
   "metadata": {},
   "outputs": [
    {
     "name": "stdout",
     "output_type": "stream",
     "text": [
      "ExtraTreeClassifier(random_state=228665763)\n",
      "Accuracy Score : 1.0\n",
      "Recall score : 1.0\n",
      "Mean Absolute Error of ExtraTreeClassifier(random_state=228665763): 0.0\n",
      "Mean Square Error of ExtraTreeClassifier(random_state=228665763): 0.0\n",
      "R_Squared Score of ExtraTreeClassifier(random_state=228665763): 1.0\n",
      "              precision    recall  f1-score   support\n",
      "\n",
      " Not Clicked       1.00      1.00      1.00       104\n",
      "     Clicked       1.00      1.00      1.00        96\n",
      "\n",
      "    accuracy                           1.00       200\n",
      "   macro avg       1.00      1.00      1.00       200\n",
      "weighted avg       1.00      1.00      1.00       200\n",
      "\n",
      "--------------------------------------------------------------------------------------------------\n",
      "ExtraTreeClassifier(random_state=1287918926)\n",
      "Accuracy Score : 1.0\n",
      "Recall score : 1.0\n",
      "Mean Absolute Error of ExtraTreeClassifier(random_state=1287918926): 0.0\n",
      "Mean Square Error of ExtraTreeClassifier(random_state=1287918926): 0.0\n",
      "R_Squared Score of ExtraTreeClassifier(random_state=1287918926): 1.0\n",
      "              precision    recall  f1-score   support\n",
      "\n",
      " Not Clicked       1.00      1.00      1.00       104\n",
      "     Clicked       1.00      1.00      1.00        96\n",
      "\n",
      "    accuracy                           1.00       200\n",
      "   macro avg       1.00      1.00      1.00       200\n",
      "weighted avg       1.00      1.00      1.00       200\n",
      "\n",
      "--------------------------------------------------------------------------------------------------\n",
      "ExtraTreeClassifier(random_state=151101294)\n",
      "Accuracy Score : 1.0\n",
      "Recall score : 1.0\n",
      "Mean Absolute Error of ExtraTreeClassifier(random_state=151101294): 0.0\n",
      "Mean Square Error of ExtraTreeClassifier(random_state=151101294): 0.0\n",
      "R_Squared Score of ExtraTreeClassifier(random_state=151101294): 1.0\n",
      "              precision    recall  f1-score   support\n",
      "\n",
      " Not Clicked       1.00      1.00      1.00       104\n",
      "     Clicked       1.00      1.00      1.00        96\n",
      "\n",
      "    accuracy                           1.00       200\n",
      "   macro avg       1.00      1.00      1.00       200\n",
      "weighted avg       1.00      1.00      1.00       200\n",
      "\n",
      "--------------------------------------------------------------------------------------------------\n",
      "ExtraTreeClassifier(random_state=230920515)\n",
      "Accuracy Score : 1.0\n",
      "Recall score : 1.0\n",
      "Mean Absolute Error of ExtraTreeClassifier(random_state=230920515): 0.0\n",
      "Mean Square Error of ExtraTreeClassifier(random_state=230920515): 0.0\n",
      "R_Squared Score of ExtraTreeClassifier(random_state=230920515): 1.0\n",
      "              precision    recall  f1-score   support\n",
      "\n",
      " Not Clicked       1.00      1.00      1.00       104\n",
      "     Clicked       1.00      1.00      1.00        96\n",
      "\n",
      "    accuracy                           1.00       200\n",
      "   macro avg       1.00      1.00      1.00       200\n",
      "weighted avg       1.00      1.00      1.00       200\n",
      "\n",
      "--------------------------------------------------------------------------------------------------\n",
      "ExtraTreeClassifier(random_state=1037220905)\n",
      "Accuracy Score : 1.0\n",
      "Recall score : 1.0\n",
      "Mean Absolute Error of ExtraTreeClassifier(random_state=1037220905): 0.0\n",
      "Mean Square Error of ExtraTreeClassifier(random_state=1037220905): 0.0\n",
      "R_Squared Score of ExtraTreeClassifier(random_state=1037220905): 1.0\n",
      "              precision    recall  f1-score   support\n",
      "\n",
      " Not Clicked       1.00      1.00      1.00       104\n",
      "     Clicked       1.00      1.00      1.00        96\n",
      "\n",
      "    accuracy                           1.00       200\n",
      "   macro avg       1.00      1.00      1.00       200\n",
      "weighted avg       1.00      1.00      1.00       200\n",
      "\n",
      "--------------------------------------------------------------------------------------------------\n",
      "ExtraTreeClassifier(random_state=766455598)\n",
      "Accuracy Score : 1.0\n",
      "Recall score : 1.0\n",
      "Mean Absolute Error of ExtraTreeClassifier(random_state=766455598): 0.0\n",
      "Mean Square Error of ExtraTreeClassifier(random_state=766455598): 0.0\n",
      "R_Squared Score of ExtraTreeClassifier(random_state=766455598): 1.0\n",
      "              precision    recall  f1-score   support\n",
      "\n",
      " Not Clicked       1.00      1.00      1.00       104\n",
      "     Clicked       1.00      1.00      1.00        96\n",
      "\n",
      "    accuracy                           1.00       200\n",
      "   macro avg       1.00      1.00      1.00       200\n",
      "weighted avg       1.00      1.00      1.00       200\n",
      "\n",
      "--------------------------------------------------------------------------------------------------\n",
      "ExtraTreeClassifier(random_state=48463779)\n",
      "Accuracy Score : 1.0\n",
      "Recall score : 1.0\n",
      "Mean Absolute Error of ExtraTreeClassifier(random_state=48463779): 0.0\n",
      "Mean Square Error of ExtraTreeClassifier(random_state=48463779): 0.0\n",
      "R_Squared Score of ExtraTreeClassifier(random_state=48463779): 1.0\n",
      "              precision    recall  f1-score   support\n",
      "\n",
      " Not Clicked       1.00      1.00      1.00       104\n",
      "     Clicked       1.00      1.00      1.00        96\n",
      "\n",
      "    accuracy                           1.00       200\n",
      "   macro avg       1.00      1.00      1.00       200\n",
      "weighted avg       1.00      1.00      1.00       200\n",
      "\n",
      "--------------------------------------------------------------------------------------------------\n"
     ]
    }
   ],
   "source": [
    "for i in range(7):\n",
    "    print(model[i])\n",
    "    pred = model[i].predict(X_val)\n",
    "    print(\"Accuracy Score :\",accuracy_score(y_val,pred))\n",
    "    print(\"Recall score :\",recall_score(y_val,pred))\n",
    "    print('Mean Absolute Error of {}:'.format(model[i]),mean_absolute_error( y_val,pred))\n",
    "    print('Mean Square Error of {}:'.format(model[i]), mean_squared_error( y_val,pred))\n",
    "    print('R_Squared Score of {}:'.format(model[i]), r2_score(y_val,pred))\n",
    "    print( classification_report(y_val, pred,target_names=[\"Not Clicked\",\"Clicked\"]) )\n",
    "    print(\"--------------------------------------------------------------------------------------------------\")"
   ]
  },
  {
   "cell_type": "code",
   "execution_count": 28,
   "metadata": {},
   "outputs": [],
   "source": []
  },
  {
   "cell_type": "markdown",
   "metadata": {
    "colab_type": "text",
    "id": "MK_rdXETIKS4"
   },
   "source": [
    "\n",
    "\n",
    "**Describe the most important features in the model to a management audience.**\n",
    "\n",
    "> #### Task:\n",
    "- **Visualize the top 10 features and their feature importance.**\n"
   ]
  },
  {
   "cell_type": "code",
   "execution_count": 67,
   "metadata": {
    "colab": {},
    "colab_type": "code",
    "id": "jabG4TJwIKS_"
   },
   "outputs": [
    {
     "name": "stdout",
     "output_type": "stream",
     "text": [
      "[0.24865104 0.10976717 0.2715933  0.05273104 0.01821419 0.05301714\n",
      " 0.04290084 0.         0.05041461 0.05061807 0.05056572 0.05152689]\n"
     ]
    },
    {
     "data": {
      "image/png": "[encoded data removed]",
      "text/plain": [
       "<Figure size 432x288 with 1 Axes>"
      ]
     },
     "metadata": {
      "needs_background": "light"
     },
     "output_type": "display_data"
    }
   ],
   "source": [
    "from sklearn.ensemble import ExtraTreesClassifier\n",
    "import matplotlib.pyplot as plt\n",
    "model = ExtraTreesClassifier()\n",
    "model.fit(X,y)\n",
    "print(model.feature_importances_) #use inbuilt class feature_importances of tree based classifiers\n",
    "#plot graph of feature importances for better visualization\n",
    "feat_importances = pd.Series(model.feature_importances_, index=X.columns)\n",
    "feat_importances.nlargest(10).plot(kind='barh')\n",
    "plt.show()"
   ]
  },
  {
   "cell_type": "markdown",
   "metadata": {},
   "source": [
    "## Features with most importance are \"Daily Time Spent on Site\" and \"Daily Internet Usage\", \"Age\" also plays an important factor"
   ]
  },
  {
   "cell_type": "markdown",
   "metadata": {
    "colab_type": "text",
    "id": "UFogmgYZIKTE"
   },
   "source": [
    "> #### Task:\n",
    "- **Submit the predictions on the test dataset using your optimized model** <br/>\n",
    "    For each record in the test set (`test.csv`), predict whether a consumer clicked on an ad or not. Submit a CSV file with a header row and one row per test entry. \n",
    "    \n",
    "The file (`submissions.csv`) should have exactly 2 columns:\n",
    "   - **id**\n",
    "   - **Clicked**"
   ]
  },
  {
   "cell_type": "code",
   "execution_count": 49,
   "metadata": {},
   "outputs": [],
   "source": [
    "sample_output = pd.read_csv('sample_output.csv')"
   ]
  },
  {
   "cell_type": "code",
   "execution_count": 52,
   "metadata": {
    "colab": {},
    "colab_type": "code",
    "id": "7xgNg25MIKTG"
   },
   "outputs": [],
   "source": [
    "submission_preds = model[4].predict(test_data)"
   ]
  },
  {
   "cell_type": "code",
   "execution_count": 56,
   "metadata": {
    "colab": {},
    "colab_type": "code",
    "id": "OaxN7BjwIKTL"
   },
   "outputs": [],
   "source": [
    "submission_df = pd.DataFrame({\"id\":sample_output['id'].values,\n",
    "                   \"Clicked\": submission_preds,\n",
    "                  })"
   ]
  },
  {
   "cell_type": "code",
   "execution_count": 57,
   "metadata": {
    "colab": {},
    "colab_type": "code",
    "id": "nBRVPrYbIKTQ"
   },
   "outputs": [],
   "source": [
    "#Submission\n",
    "submission_df.to_csv('submissions.csv',index=False)"
   ]
  },
  {
   "cell_type": "markdown",
   "metadata": {
    "colab_type": "text",
    "id": "H_pB8zTcIKTW"
   },
   "source": [
    "---"
   ]
  }
 ],
 "metadata": {
  "colab": {
   "collapsed_sections": [],
   "name": "ads_questions_updated.ipynb",
   "provenance": [],
   "toc_visible": true
  },
  "kernelspec": {
   "display_name": "Python 3 (ipykernel)",
   "language": "python",
   "name": "python3"
  },
  "language_info": {
   "codemirror_mode": {
    "name": "ipython",
    "version": 3
   },
   "file_extension": ".py",
   "mimetype": "text/x-python",
   "name": "python",
   "nbconvert_exporter": "python",
   "pygments_lexer": "ipython3",
   "version": "3.9.7"
  },
  "toc": {
   "base_numbering": 1,
   "nav_menu": {},
   "number_sections": true,
   "sideBar": true,
   "skip_h1_title": false,
   "title_cell": "Table of Contents",
   "title_sidebar": "Contents",
   "toc_cell": false,
   "toc_position": {},
   "toc_section_display": true,
   "toc_window_display": false
  }
 },
 "nbformat": 4,
 "nbformat_minor": 4
}
